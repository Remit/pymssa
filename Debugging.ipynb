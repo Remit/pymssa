{
 "cells": [
  {
   "cell_type": "code",
   "execution_count": 1,
   "metadata": {},
   "outputs": [
    {
     "name": "stderr",
     "output_type": "stream",
     "text": [
      "D:\\AutoscalingSim\\pymssa\\pymssa\\mssa.py:10: TqdmExperimentalWarning: Using `tqdm.autonotebook.tqdm` in notebook mode. Use `tqdm.tqdm` instead to force console mode (e.g. in jupyter console)\n",
      "  from tqdm.autonotebook import tqdm\n"
     ]
    },
    {
     "name": "stdout",
     "output_type": "stream",
     "text": [
      "Constructing trajectory matrix\n",
      "Trajectory matrix shape: (5, 597)\n",
      "Decomposing trajectory covariance matrix with SVD\n",
      "Constructing components\n",
      "Calculating optimal reconstruction orders\n"
     ]
    }
   ],
   "source": [
    "from pymssa import MSSA\n",
    "\n",
    "import random\n",
    "import pandas as pd\n",
    "df = pd.DataFrame({'datetime': pd.date_range(pd.Timestamp('2020-12-22T10:00:00'), pd.Timestamp('2020-12-22T10:05:00'), freq = '500ms'), 'value': random.choices(range(1290), k = 601)}).set_index('datetime')\n",
    "\n",
    "mssa = MSSA(n_components = 5, window_size = 5, verbose = True)\n",
    "rq = mssa.fit(df.value.to_numpy().astype('float64'))"
   ]
  },
  {
   "cell_type": "code",
   "execution_count": null,
   "metadata": {},
   "outputs": [],
   "source": []
  }
 ],
 "metadata": {
  "kernelspec": {
   "display_name": "Python 3",
   "language": "python",
   "name": "python3"
  },
  "language_info": {
   "codemirror_mode": {
    "name": "ipython",
    "version": 3
   },
   "file_extension": ".py",
   "mimetype": "text/x-python",
   "name": "python",
   "nbconvert_exporter": "python",
   "pygments_lexer": "ipython3",
   "version": "3.7.3"
  }
 },
 "nbformat": 4,
 "nbformat_minor": 4
}
